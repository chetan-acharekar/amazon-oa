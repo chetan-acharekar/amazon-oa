{
 "cells": [
  {
   "cell_type": "markdown",
   "metadata": {},
   "source": [
    "https://leetcode.com/problems/combination-sum/"
   ]
  },
  {
   "cell_type": "code",
   "execution_count": 26,
   "metadata": {},
   "outputs": [],
   "source": [
    "candidates = [1,2,5]\n",
    "target = 11"
   ]
  },
  {
   "cell_type": "code",
   "execution_count": 27,
   "metadata": {},
   "outputs": [
    {
     "name": "stdout",
     "output_type": "stream",
     "text": [
      "[1, 1, 1, 1, 1, 1, 1, 1, 1, 1, 1]\n",
      "[1, 1, 1, 1, 1, 1, 1, 1, 1, 2]\n",
      "[1, 1, 1, 1, 1, 1, 1, 2, 2]\n",
      "[1, 1, 1, 1, 1, 1, 5]\n",
      "[1, 1, 1, 1, 1, 2, 2, 2]\n",
      "[1, 1, 1, 1, 2, 5]\n",
      "[1, 1, 1, 2, 2, 2, 2]\n",
      "[1, 1, 2, 2, 5]\n",
      "[1, 2, 2, 2, 2, 2]\n",
      "[1, 5, 5]\n",
      "[2, 2, 2, 5]\n"
     ]
    }
   ],
   "source": [
    "def backTrack(total,comb,index):\n",
    "    if(total == target):\n",
    "        print(comb)\n",
    "        return\n",
    "    if(total>target):\n",
    "        return\n",
    "    for i in range(index,len(candidates)):\n",
    "        current = candidates[i]\n",
    "        comb.append(current)\n",
    "        backTrack(total + candidates[i],comb,i)\n",
    "        comb.pop()\n",
    "backTrack(0,[],0)\n",
    "        \n",
    "    \n",
    "    "
   ]
  },
  {
   "cell_type": "markdown",
   "metadata": {},
   "source": [
    "https://leetcode.com/discuss/interview-question/1482144/Amazon-Online-Assessment-September-2021"
   ]
  },
  {
   "cell_type": "markdown",
   "metadata": {},
   "source": [
    "Q1\n",
    "Given an array of predicted rainfall for next n days, where index i presents a day and day[i] represents the amount of rainfall on that day, return a list of ideal days such that -\n",
    "\n",
    "day[i-k] >= day[i-k+1] >= ... day[i-1] >= day[i] <= day[i+1] ... <= day[i+k-1] <= day[i+k],\n",
    "\n",
    "where k is given as an input which represents the number of days prior and after the current day.\n",
    "\n",
    "As index represents day, while returning, we need to return i+1 as the actual day.\n",
    "\n",
    "Ex:\n",
    "day = [3,2,2,2,3,4]\n",
    "k = 2\n",
    "Output:\n",
    "[3,4]\n",
    "\n",
    "Explanation:\n",
    "\n",
    "the rainfall trend for day3 (i = 2) is day1 >= day2 >= day3 <= day4 <= day5 so day3 is ideal\n",
    "the rainfall trend for day4 (i = 3) is day2 >= day3 >= day4 <= day5 <= day6 so day4 is ideal\n",
    "\n",
    "i <= k <= n <= 2x10^5\n",
    "0 <= day[i] <= 10^9\n",
    "\n",
    "\n",
    "Testcase1\n",
    "day = [1,0,1,0,1]\n",
    "k = 1\n",
    "Output:\n",
    "[2,4]\n",
    "\n",
    "Testcase2\n",
    "day = [1,0,0,0,1]\n",
    "k = 2\n",
    "Output:\n",
    "[3]\n",
    "\n",
    "Testcase3\n",
    "day = [1,1,1,1,1,1,1,1,1,1]\n",
    "k = 3\n",
    "Output:\n",
    "[4,5,6,7]"
   ]
  },
  {
   "cell_type": "code",
   "execution_count": 9,
   "metadata": {},
   "outputs": [],
   "source": [
    "def rain(arr,k):\n",
    "    correctBefore = {}\n",
    "    correctAfter = {}\n",
    "    res = []\n",
    "    for i in range(k,len(arr)-k):\n",
    "        start = i - k\n",
    "        while(start<i):\n",
    "            if(arr[start]<arr[start+1]):\n",
    "                break\n",
    "            start += 1\n",
    "        if(i != start):\n",
    "            continue\n",
    "        else:\n",
    "            correctBefore[i] = True\n",
    "            #print('valid before case found',i)\n",
    "            \n",
    "            \n",
    "        start = i\n",
    "        end = i + k\n",
    "        while(start<end):\n",
    "            if(arr[start]>arr[start+1]):\n",
    "                break\n",
    "            start += 1\n",
    "        if(start != end):\n",
    "            continue\n",
    "        else:\n",
    "            #print('valid after case found',i)\n",
    "            correctAfter[i] = True\n",
    "            \n",
    "        if(correctBefore.get(i) and correctAfter.get(i)):\n",
    "            res.append(i+1)\n",
    "            \n",
    "    return res\n",
    "            \n",
    "            \n",
    "            \n",
    "            "
   ]
  },
  {
   "cell_type": "code",
   "execution_count": 10,
   "metadata": {},
   "outputs": [
    {
     "data": {
      "text/plain": [
       "[4, 5, 6, 7]"
      ]
     },
     "execution_count": 10,
     "metadata": {},
     "output_type": "execute_result"
    }
   ],
   "source": [
    "rain([1,1,1,1,1,1,1,1,1,1],3)"
   ]
  },
  {
   "cell_type": "markdown",
   "metadata": {},
   "source": [
    "https://leetcode.com/discuss/interview-question/1471459/Amazon-OA"
   ]
  },
  {
   "cell_type": "markdown",
   "metadata": {},
   "source": [
    "Problem 1:\n",
    "Find the password strength.\n",
    "For each substring of the password which contains at least one vowel and one consonant, its strength goes up by 1.\n",
    "vowels={'a', 'e', 'i', 'o', 'u'}, and rest of letters are all consonant.\n",
    "(Only lower alphabet letters)\n",
    "\n",
    "Input:\n",
    "thisisbeautiful\n",
    "\n",
    "output:\n",
    "6\n",
    "\n",
    "explaination:\n",
    "this, is, be, aut, if, ul"
   ]
  },
  {
   "cell_type": "code",
   "execution_count": 16,
   "metadata": {},
   "outputs": [
    {
     "name": "stdout",
     "output_type": "stream",
     "text": [
      "[4, 4, 3]\n"
     ]
    }
   ],
   "source": [
    "def passwordCheck(password):\n",
    "    \n",
    "    vowels = {\"a\",\"e\",\"i\",\"o\",\"u\"}\n",
    "    res = []\n",
    "    vowelFound = False\n",
    "    SecondVowelFound = False\n",
    "    anchor = 0\n",
    "    for i,char in enumerate(password):\n",
    "        #print(char)\n",
    "        if(char in vowels and vowelFound == False):\n",
    "            vowelFound = True\n",
    "        elif(char in vowels and vowelFound):\n",
    "            res.append(i-anchor)\n",
    "            anchor = i\n",
    "            vowelFound = False\n",
    "    print(res)\n",
    "    \n",
    "passwordCheck(\"thisisbeautiful\")\n",
    "            \n",
    "        \n",
    "    \n"
   ]
  },
  {
   "cell_type": "markdown",
   "metadata": {},
   "source": [
    "Sort 1's and 0's in array to the end. Either end is fine.\n",
    "Find the minimum number of adjacent swaps required to sort.\n",
    "\n",
    "\n",
    "Input:\n",
    "[1,1,1,0,0,0]\n",
    "\n",
    "output:\n",
    "0\n",
    "\n",
    "Input:\n",
    "[0,0,1,0,1,0]\n",
    "\n",
    "output:\n",
    "3"
   ]
  },
  {
   "cell_type": "code",
   "execution_count": 19,
   "metadata": {},
   "outputs": [
    {
     "data": {
      "text/plain": [
       "5"
      ]
     },
     "execution_count": 19,
     "metadata": {},
     "output_type": "execute_result"
    }
   ],
   "source": [
    "def countMovesToLeft(nums, target):\n",
    "\tcount = 0\n",
    "\tlast = 0\n",
    "\tfor i in range(len(nums)):\n",
    "\t\tif nums[i] == target:\n",
    "\t\t\tcount += i - last\n",
    "\t\t\tlast += 1\n",
    "\treturn count\n",
    "        \n",
    "    \n",
    "nums = [0,0,1,0,1,0]\n",
    "countMovesToLeft(nums, 1)\n",
    "\n",
    "\n",
    "#min(countMovesToLeft(nums, 1), countMovesToLeft(nums, 0))"
   ]
  },
  {
   "cell_type": "markdown",
   "metadata": {},
   "source": [
    "https://leetcode.com/discuss/interview-question/1466898/Amazon-Online-Assessment-2021"
   ]
  },
  {
   "cell_type": "code",
   "execution_count": 2,
   "metadata": {},
   "outputs": [],
   "source": [
    "\n",
    "    def sumSubarrayMins(arr) :\n",
    "        n = len(arr)\n",
    "\n",
    "        def nextMax():\n",
    "            nextMin = [n-i-1 for i in range(n)] \n",
    "            stack = []\n",
    "            for i,num in enumerate(arr):\n",
    "                while(len(stack)>0 and arr[stack[-1]]<num):\n",
    "                    nextMin[stack[-1]] = i - stack[-1] - 1\n",
    "                    stack.pop()\n",
    "                stack.append(i)\n",
    "            return nextMin\n",
    "        \n",
    "        def prevMax():\n",
    "            prevMin = [i for i in range(n)] \n",
    "            stack = []\n",
    "            for i in range((n-1),-1,-1):\n",
    "                while(len(stack)>0 and arr[stack[-1]]<=arr[i]):\n",
    "                    prevMin[stack[-1]] = stack[-1] - i - 1\n",
    "                    stack.pop()\n",
    "                stack.append(i)\n",
    "\n",
    "            return prevMin\n",
    "        \n",
    "        \n",
    "        def nextMinimum():\n",
    "            nextMin = [n-i-1 for i in range(n)] \n",
    "            stack = []\n",
    "            for i,num in enumerate(arr):\n",
    "                while(len(stack)>0 and arr[stack[-1]]>num):\n",
    "                    nextMin[stack[-1]] = i - stack[-1] - 1\n",
    "                    stack.pop()\n",
    "                stack.append(i)\n",
    "            return nextMin\n",
    "                        \n",
    "        def prevMin():\n",
    "            prevMin = [i for i in range(n)] \n",
    "            stack = []\n",
    "            for i in range((n-1),-1,-1):\n",
    "                while(len(stack)>0 and arr[stack[-1]]>=arr[i]):\n",
    "                    prevMin[stack[-1]] = stack[-1] - i - 1\n",
    "                    stack.pop()\n",
    "                stack.append(i)\n",
    "            return prevMin\n",
    "        \n",
    "        \n",
    "        \n",
    "        \n",
    "        nxtMin = nextMinimum()\n",
    "        prevMin = prevMin()\n",
    "        nxtMax = nextMax()\n",
    "        prevMax = prevMax()\n",
    "        \n",
    "        resMax = 0\n",
    "        mod = 1000000007\n",
    "        resMin = 0\n",
    "        for i in range(n):\n",
    "            resMin += arr[i] * (nxtMin[i] +1) * (prevMin[i]+1)\n",
    "            resMax += arr[i] * (nxtMax[i] +1) * (prevMax[i]+1)\n",
    "        \n",
    "        return (resMax-resMin)%mod\n",
    "        \n",
    "        "
   ]
  },
  {
   "cell_type": "code",
   "execution_count": 5,
   "metadata": {},
   "outputs": [
    {
     "name": "stdout",
     "output_type": "stream",
     "text": [
      "[0, 0, 0]\n",
      "[0, 1, 2]\n"
     ]
    },
    {
     "data": {
      "text/plain": [
       "4"
      ]
     },
     "execution_count": 5,
     "metadata": {},
     "output_type": "execute_result"
    }
   ],
   "source": [
    "sumSubarrayMins([1,2,3])"
   ]
  },
  {
   "cell_type": "markdown",
   "metadata": {},
   "source": [
    "https://algo.monster/problems/amazon_oa_find_all_combination_of_numbers_sum_to_target"
   ]
  },
  {
   "cell_type": "code",
   "execution_count": 6,
   "metadata": {},
   "outputs": [
    {
     "name": "stdout",
     "output_type": "stream",
     "text": [
      "[1, 1, 1, 1, 1, 1, 1]\n",
      "[1, 1, 1, 1, 1, 2]\n",
      "[1, 1, 1, 1, 3]\n",
      "[1, 1, 1, 2, 2]\n",
      "[1, 1, 1, 4]\n",
      "[1, 1, 2, 3]\n",
      "[1, 1, 5]\n",
      "[1, 2, 2, 2]\n",
      "[1, 2, 4]\n",
      "[1, 3, 3]\n",
      "[1, 6]\n",
      "[2, 2, 3]\n",
      "[2, 5]\n",
      "[3, 4]\n"
     ]
    }
   ],
   "source": [
    "n = 7\n",
    "def backTrack(curr,lst):\n",
    "    if(curr>=n or sum(lst)>n):\n",
    "        return\n",
    "    if(sum(lst) == n):\n",
    "        print(lst)\n",
    "        return\n",
    "    for i in range(curr,n):\n",
    "        lst.append(i)\n",
    "        backTrack(i,lst)\n",
    "        lst.pop()\n",
    "        \n",
    "        \n",
    "    \n",
    "backTrack(1,[])"
   ]
  },
  {
   "cell_type": "markdown",
   "metadata": {},
   "source": [
    "https://cybergeeksquad.co/2021/06/optimal-utilization-solution-amazon-oa.html\n",
    "    \n",
    "https://leetcode.com/discuss/interview-question/373202/Amazon-or-OA-2019-or-Optimal-Utilization    "
   ]
  },
  {
   "cell_type": "code",
   "execution_count": 7,
   "metadata": {},
   "outputs": [
    {
     "name": "stdout",
     "output_type": "stream",
     "text": [
      "0 8 10\n",
      "res-- reset []\n",
      "res-- reset [[1, 4]]\n",
      "8 10 10\n",
      "res-- reset [[1, 4]]\n",
      "res-- reset [[2, 4]]\n",
      "10 10 10\n",
      "res-- update [[2, 4]]\n",
      "res-- update [[2, 4], [3, 2]]\n",
      "[[2, 4], [3, 2]]\n"
     ]
    }
   ],
   "source": [
    "def find_element(nums, target):\n",
    "    length = len(nums)\n",
    "    st = 0\n",
    "    ed = length-1\n",
    "    while st < ed:\n",
    "        mid = (st + ed + 1) // 2\n",
    "        if nums[mid][1] > target:\n",
    "            ed = mid - 1\n",
    "        else:\n",
    "            st = mid\n",
    "    return nums[st]\n",
    "\n",
    "def UptimalUtilization(a, b, target):\n",
    "    a.sort(key=lambda x:x[1])\n",
    "    b.sort(key=lambda x:x[1])\n",
    "    len1 = len(a)\n",
    "    len2 = len(b)\n",
    "    curval = 0\n",
    "    res = []\n",
    "    for idx1, num1 in a:\n",
    "        idx2, num2 = find_element(b,target-num1)\n",
    "        if num1 + num2 <= target:\n",
    "            print(curval,num1+num2,target)\n",
    "            if curval < num1 + num2:\n",
    "                curval = num1 + num2\n",
    "                print('res-- reset',res)\n",
    "                res = [[idx1, idx2]]\n",
    "                print('res-- reset',res)\n",
    "            elif curval == num1 + num2:\n",
    "                print('res-- update',res)\n",
    "                res.append([idx1, idx2])\n",
    "                print('res-- update',res)\n",
    "    return res\n",
    "\n",
    "\n",
    "a = [[1, 3], [2, 5], [3, 7], [4, 10]]\n",
    "b = [[1, 2], [2, 3], [3, 4], [4, 5]]\n",
    "target = 10\n",
    "print(UptimalUtilization(a, b, target))"
   ]
  },
  {
   "cell_type": "code",
   "execution_count": null,
   "metadata": {},
   "outputs": [],
   "source": []
  }
 ],
 "metadata": {
  "kernelspec": {
   "display_name": "Python 3",
   "language": "python",
   "name": "python3"
  },
  "language_info": {
   "codemirror_mode": {
    "name": "ipython",
    "version": 3
   },
   "file_extension": ".py",
   "mimetype": "text/x-python",
   "name": "python",
   "nbconvert_exporter": "python",
   "pygments_lexer": "ipython3",
   "version": "3.8.3"
  }
 },
 "nbformat": 4,
 "nbformat_minor": 4
}
