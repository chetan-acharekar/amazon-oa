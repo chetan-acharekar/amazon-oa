{
 "cells": [
  {
   "cell_type": "markdown",
   "metadata": {},
   "source": [
    "https://leetcode.com/problems/combination-sum/"
   ]
  },
  {
   "cell_type": "code",
   "execution_count": null,
   "metadata": {},
   "outputs": [],
   "source": [
    "candidates = [1,2,5]\n",
    "target = 11"
   ]
  },
  {
   "cell_type": "code",
   "execution_count": null,
   "metadata": {},
   "outputs": [],
   "source": [
    "def backTrack(total,comb,index):\n",
    "    if(total == target):\n",
    "        print(comb)\n",
    "        return\n",
    "    if(total>target):\n",
    "        return\n",
    "    for i in range(index,len(candidates)):\n",
    "        current = candidates[i]\n",
    "        comb.append(current)\n",
    "        backTrack(total + candidates[i],comb,i)\n",
    "        comb.pop()\n",
    "backTrack(0,[],0)"
   ]
  },
  {
   "cell_type": "markdown",
   "metadata": {},
   "source": [
    "https://leetcode.com/discuss/interview-question/1482144/Amazon-Online-Assessment-September-2021"
   ]
  },
  {
   "cell_type": "markdown",
   "metadata": {},
   "source": [
    "Q1\n",
    "Given an array of predicted rainfall for next n days, where index i presents a day and day[i] represents the amount of rainfall on that day, return a list of ideal days such that -\n",
    "\n",
    "day[i-k] >= day[i-k+1] >= ... day[i-1] >= day[i] <= day[i+1] ... <= day[i+k-1] <= day[i+k],\n",
    "\n",
    "where k is given as an input which represents the number of days prior and after the current day.\n",
    "\n",
    "As index represents day, while returning, we need to return i+1 as the actual day.\n",
    "\n",
    "Ex:\n",
    "day = [3,2,2,2,3,4]\n",
    "k = 2\n",
    "Output:\n",
    "[3,4]\n",
    "\n",
    "Explanation:\n",
    "\n",
    "the rainfall trend for day3 (i = 2) is day1 >= day2 >= day3 <= day4 <= day5 so day3 is ideal\n",
    "the rainfall trend for day4 (i = 3) is day2 >= day3 >= day4 <= day5 <= day6 so day4 is ideal\n",
    "\n",
    "i <= k <= n <= 2x10^5\n",
    "0 <= day[i] <= 10^9\n",
    "\n",
    "\n",
    "Testcase1\n",
    "day = [1,0,1,0,1]\n",
    "k = 1\n",
    "Output:\n",
    "[2,4]\n",
    "\n",
    "Testcase2\n",
    "day = [1,0,0,0,1]\n",
    "k = 2\n",
    "Output:\n",
    "[3]\n",
    "\n",
    "Testcase3\n",
    "day = [1,1,1,1,1,1,1,1,1,1]\n",
    "k = 3\n",
    "Output:\n",
    "[4,5,6,7]"
   ]
  },
  {
   "cell_type": "code",
   "execution_count": 53,
   "metadata": {},
   "outputs": [],
   "source": [
    "def rain(arr,k):\n",
    "    correctBefore = {}\n",
    "    correctAfter = {}\n",
    "    res = []\n",
    "    for i in range(k,len(arr)-k):\n",
    "        start = i - k\n",
    "        while(start<i):\n",
    "            if(arr[start]<arr[start+1]):\n",
    "                break\n",
    "            start += 1\n",
    "        if(i != start):\n",
    "            continue\n",
    "        else:\n",
    "            correctBefore[i] = True\n",
    "            #print('valid before case found',i)\n",
    "            \n",
    "            \n",
    "        start = i\n",
    "        end = i + k\n",
    "        while(start<end):\n",
    "            if(arr[start]>arr[start+1]):\n",
    "                break\n",
    "            start += 1\n",
    "        if(start != end):\n",
    "            continue\n",
    "        else:\n",
    "            #print('valid after case found',i)\n",
    "            correctAfter[i] = True\n",
    "            \n",
    "        if(correctBefore.get(i) and correctAfter.get(i)):\n",
    "            res.append(i+1)\n",
    "            \n",
    "    return res\n",
    "            \n",
    "            \n",
    "            \n",
    "            "
   ]
  },
  {
   "cell_type": "code",
   "execution_count": 54,
   "metadata": {},
   "outputs": [],
   "source": [
    "def rainCheckLinear(arr,k):\n",
    "    n = len(arr)\n",
    "    l = [0] * n\n",
    "    r = [0] * n\n",
    "    for i in range(1,n):\n",
    "        if(arr[i] <= arr[i-1]):\n",
    "            l[i] = l[i-1] + 1\n",
    "        else:\n",
    "            l[i] = 0\n",
    "            \n",
    "    for i in range(n-2,-1,-1):\n",
    "        if(arr[i+1] >= arr[i]):\n",
    "            r[i] = r[i+1] + 1\n",
    "        else:\n",
    "            r[i] = 0\n",
    "    \n",
    "    res = []\n",
    "    for i in range(n):\n",
    "        if(l[i] >= k and r[i] >= k):\n",
    "            res.append(i+1)\n",
    "            \n",
    "    return res\n",
    "            \n",
    "        "
   ]
  },
  {
   "cell_type": "code",
   "execution_count": 56,
   "metadata": {},
   "outputs": [
    {
     "data": {
      "text/plain": [
       "[3, 4]"
      ]
     },
     "execution_count": 56,
     "metadata": {},
     "output_type": "execute_result"
    }
   ],
   "source": [
    "rain( [3,2,2,2,3,4],2)"
   ]
  },
  {
   "cell_type": "markdown",
   "metadata": {},
   "source": [
    "https://leetcode.com/discuss/interview-question/1471459/Amazon-OA"
   ]
  },
  {
   "cell_type": "markdown",
   "metadata": {},
   "source": [
    "Problem 1:\n",
    "Find the password strength.\n",
    "For each substring of the password which contains at least one vowel and one consonant, its strength goes up by 1.\n",
    "vowels={'a', 'e', 'i', 'o', 'u'}, and rest of letters are all consonant.\n",
    "(Only lower alphabet letters)\n",
    "\n",
    "Input:\n",
    "thisisbeautiful\n",
    "\n",
    "output:\n",
    "6\n",
    "\n",
    "explaination:\n",
    "this, is, be, aut, if, ul"
   ]
  },
  {
   "cell_type": "code",
   "execution_count": 103,
   "metadata": {},
   "outputs": [
    {
     "name": "stdout",
     "output_type": "stream",
     "text": [
      "ha\n",
      "cke\n",
      "rra\n"
     ]
    },
    {
     "data": {
      "text/plain": [
       "3"
      ]
     },
     "execution_count": 103,
     "metadata": {},
     "output_type": "execute_result"
    }
   ],
   "source": [
    "def passwordCheck(password):\n",
    "    vowels = {\"a\",\"e\",\"i\",\"o\",\"u\"}\n",
    "    res = 0\n",
    "    vowelFound = False\n",
    "    cFount = False\n",
    "    anchor = 0\n",
    "    for i,char in enumerate(password):\n",
    "        if(char in vowels):\n",
    "            vowelFound = True\n",
    "        else:\n",
    "            cFount = True\n",
    "        if(vowelFound and cFount):\n",
    "            vowelFound = False\n",
    "            cFount = False\n",
    "            print(password[anchor:i+1])\n",
    "            anchor = i+1\n",
    "            res += 1   \n",
    "    return res\n",
    "passwordCheck(\"hackerrank\")"
   ]
  },
  {
   "cell_type": "code",
   "execution_count": 98,
   "metadata": {},
   "outputs": [],
   "source": [
    "            \n"
   ]
  },
  {
   "cell_type": "markdown",
   "metadata": {},
   "source": [
    "Sort 1's and 0's in array to the end. Either end is fine.\n",
    "Find the minimum number of adjacent swaps required to sort.\n",
    "\n",
    "\n",
    "Input:\n",
    "[1,1,1,0,0,0]\n",
    "\n",
    "output:\n",
    "0\n",
    "\n",
    "Input:\n",
    "[0,0,1,0,1,0]\n",
    "\n",
    "output:\n",
    "3"
   ]
  },
  {
   "cell_type": "code",
   "execution_count": null,
   "metadata": {},
   "outputs": [],
   "source": [
    "def countMovesToLeft(nums, target):\n",
    "\tcount = 0\n",
    "\tlast = 0\n",
    "\tfor i in range(len(nums)):\n",
    "\t\tif nums[i] == target:\n",
    "\t\t\tcount += i - last\n",
    "\t\t\tlast += 1\n",
    "\treturn count\n",
    "        \n",
    "    \n",
    "nums = [0,0,1,0,1,0]\n",
    "countMovesToLeft(nums, 1)\n",
    "\n",
    "\n",
    "#min(countMovesToLeft(nums, 1), countMovesToLeft(nums, 0))"
   ]
  },
  {
   "cell_type": "markdown",
   "metadata": {},
   "source": [
    "https://leetcode.com/discuss/interview-question/1466898/Amazon-Online-Assessment-2021"
   ]
  },
  {
   "cell_type": "code",
   "execution_count": 90,
   "metadata": {},
   "outputs": [],
   "source": [
    "\n",
    "    def sumSubarrayMinMaxDiff(arr) :\n",
    "        n = len(arr)\n",
    "\n",
    "        def nextMax():\n",
    "            nextMin = [n-i-1 for i in range(n)] \n",
    "            stack = []\n",
    "            for i,num in enumerate(arr):\n",
    "                while(len(stack)>0 and arr[stack[-1]]<num):\n",
    "                    nextMin[stack[-1]] = i - stack[-1] - 1\n",
    "                    stack.pop()\n",
    "                stack.append(i)\n",
    "            return nextMin\n",
    "        \n",
    "        def prevMax():\n",
    "            prevMin = [i for i in range(n)] \n",
    "            stack = []\n",
    "            for i in range((n-1),-1,-1):\n",
    "                while(len(stack)>0 and arr[stack[-1]]<=arr[i]):\n",
    "                    prevMin[stack[-1]] = stack[-1] - i - 1\n",
    "                    stack.pop()\n",
    "                stack.append(i)\n",
    "\n",
    "            return prevMin\n",
    "        \n",
    "        \n",
    "        def nextMinimum():\n",
    "            nextMin = [n-i-1 for i in range(n)] \n",
    "            stack = []\n",
    "            for i,num in enumerate(arr):\n",
    "                while(len(stack)>0 and arr[stack[-1]]>num):\n",
    "                    nextMin[stack[-1]] = i - stack[-1] - 1\n",
    "                    stack.pop()\n",
    "                stack.append(i)\n",
    "            return nextMin\n",
    "                        \n",
    "        def prevMin():\n",
    "            prevMin = [i for i in range(n)] \n",
    "            stack = []\n",
    "            for i in range((n-1),-1,-1):\n",
    "                while(len(stack)>0 and arr[stack[-1]]>=arr[i]):\n",
    "                    prevMin[stack[-1]] = stack[-1] - i - 1\n",
    "                    stack.pop()\n",
    "                stack.append(i)\n",
    "            return prevMin\n",
    "        \n",
    "        \n",
    "        \n",
    "        \n",
    "        nxtMin = nextMinimum()\n",
    "        prevMin = prevMin()\n",
    "        nxtMax = nextMax()\n",
    "        prevMax = prevMax()\n",
    "        \n",
    "        resMax = 0\n",
    "        mod = 1000000007\n",
    "        resMin = 0\n",
    "        for i in range(n):\n",
    "            resMin += arr[i] * (nxtMin[i] +1) * (prevMin[i]+1)\n",
    "            resMax += arr[i] * (nxtMax[i] +1) * (prevMax[i]+1)\n",
    "        \n",
    "        return (resMax-resMin)%mod\n",
    "        \n",
    "        "
   ]
  },
  {
   "cell_type": "code",
   "execution_count": 91,
   "metadata": {},
   "outputs": [
    {
     "data": {
      "text/plain": [
       "10"
      ]
     },
     "execution_count": 91,
     "metadata": {},
     "output_type": "execute_result"
    }
   ],
   "source": [
    "sumSubarrayMinMaxDiff([1,2,3,4])"
   ]
  },
  {
   "cell_type": "markdown",
   "metadata": {},
   "source": [
    "https://algo.monster/problems/amazon_oa_find_all_combination_of_numbers_sum_to_target"
   ]
  },
  {
   "cell_type": "code",
   "execution_count": null,
   "metadata": {},
   "outputs": [],
   "source": [
    "n = 7\n",
    "def backTrack(curr,lst):\n",
    "    if(curr>=n or sum(lst)>n):\n",
    "        return\n",
    "    if(sum(lst) == n):\n",
    "        print(lst)\n",
    "        return\n",
    "    for i in range(curr,n):\n",
    "        lst.append(i)\n",
    "        backTrack(i,lst)\n",
    "        lst.pop()\n",
    "        \n",
    "        \n",
    "    \n",
    "backTrack(1,[])"
   ]
  },
  {
   "cell_type": "markdown",
   "metadata": {},
   "source": [
    "https://cybergeeksquad.co/2021/06/optimal-utilization-solution-amazon-oa.html\n",
    "    \n",
    "https://leetcode.com/discuss/interview-question/373202/Amazon-or-OA-2019-or-Optimal-Utilization    "
   ]
  },
  {
   "cell_type": "code",
   "execution_count": 49,
   "metadata": {},
   "outputs": [
    {
     "name": "stdout",
     "output_type": "stream",
     "text": [
      "0 8 10\n",
      "res-- reset []\n",
      "res-- reset [[1, 4]]\n",
      "8 10 10\n",
      "res-- reset [[1, 4]]\n",
      "res-- reset [[2, 4]]\n",
      "10 10 10\n",
      "res-- update [[2, 4]]\n",
      "res-- update [[2, 4], [3, 2]]\n",
      "[[2, 4], [3, 2]]\n"
     ]
    }
   ],
   "source": [
    "def find_element(nums, target):\n",
    "    length = len(nums)\n",
    "    st = 0\n",
    "    ed = length-1\n",
    "    while st < ed:\n",
    "        mid = (st + ed + 1) // 2\n",
    "        if nums[mid][1] > target:\n",
    "            ed = mid - 1\n",
    "        else:\n",
    "            st = mid\n",
    "    return nums[st]\n",
    "\n",
    "def UptimalUtilization(a, b, target):\n",
    "    a.sort(key=lambda x:x[1])\n",
    "    b.sort(key=lambda x:x[1])\n",
    "    len1 = len(a)\n",
    "    len2 = len(b)\n",
    "    curval = 0\n",
    "    res = []\n",
    "    for idx1, num1 in a:\n",
    "        idx2, num2 = find_element(b,target-num1)\n",
    "        if num1 + num2 <= target:\n",
    "            print(curval,num1+num2,target)\n",
    "            if curval < num1 + num2:\n",
    "                curval = num1 + num2\n",
    "                res = [[idx1, idx2]]\n",
    "            elif curval == num1 + num2:\n",
    "                res.append([idx1, idx2])\n",
    "    return res\n",
    "\n",
    "\n",
    "a = [[1, 3], [2, 5], [3, 7], [4, 10]]\n",
    "b = [[1, 2], [2, 3], [3, 4], [4, 5]]\n",
    "target = 10\n",
    "print(UptimalUtilization(a, b, target))"
   ]
  },
  {
   "cell_type": "markdown",
   "metadata": {},
   "source": [
    "https://leetcode.com/discuss/interview-question/844979/Amazon-or-OA-2020-or-Largest-Item-Association"
   ]
  },
  {
   "cell_type": "code",
   "execution_count": null,
   "metadata": {},
   "outputs": [],
   "source": [
    "from collections import defaultdict"
   ]
  },
  {
   "cell_type": "code",
   "execution_count": null,
   "metadata": {},
   "outputs": [],
   "source": [
    "itemAssosiation =[['item1','item2'],['item3','item4'],['item4','item5'],['item1','item6'],['item1','item7']]\n",
    "graph = defaultdict(list)\n",
    "itemsList = set()\n",
    "def buildGraph(itemAssosiation):\n",
    "    for src,dst in itemAssosiation:\n",
    "        itemsList.add(src)\n",
    "        itemsList.add(dst)\n",
    "        graph[src].append(dst)\n",
    "        graph[dst].append(src)   \n",
    "        \n",
    "buildGraph(itemAssosiation)\n",
    "\n",
    "\n",
    "def dfs(src,visited,component):\n",
    "    visited.add(src)\n",
    "    for neighbour in graph[src]:\n",
    "        if(neighbour not in visited):\n",
    "            component.append(neighbour)\n",
    "            dfs(neighbour,visited,component)    \n",
    "    return component\n",
    "\n",
    "\n",
    "maxList = []\n",
    "for item in list(itemsList):\n",
    "    componentList = dfs(item,set(),[item])\n",
    "    if(len(componentList)>len(maxList)):\n",
    "        maxList = list(componentList)\n",
    "        \n",
    "maxList.sort()\n",
    "print(maxList)\n",
    "graph['item4']"
   ]
  },
  {
   "cell_type": "markdown",
   "metadata": {},
   "source": [
    "https://leetcode.com/discuss/interview-question/1002811/Amazon-or-OA-2021-or-Fresh-Promotion"
   ]
  },
  {
   "cell_type": "code",
   "execution_count": 29,
   "metadata": {},
   "outputs": [
    {
     "name": "stdout",
     "output_type": "stream",
     "text": [
      "orange apple 0\n",
      "apple apple 0\n",
      "apple banana 1\n",
      "banana apple 0\n",
      "orange apple 0\n",
      "apple apple 0\n"
     ]
    },
    {
     "data": {
      "text/plain": [
       "False"
      ]
     },
     "execution_count": 29,
     "metadata": {},
     "output_type": "execute_result"
    }
   ],
   "source": [
    "promotion = [['apple', 'banana']]\n",
    "cart = ['orange', 'apple', 'apple', 'banana', 'orange', 'apple']\n",
    "currentPromo = promotion[0]\n",
    "wildCard = 'anything'\n",
    "\n",
    "\n",
    "def isWinnerForCode(currentCodeList,cart):\n",
    "    codeId = 0\n",
    "    prevIndex = 0\n",
    "    for i,item in enumerate(cart):\n",
    "        print(item,currentCodeList[codeId],codeId)\n",
    "        if(item == currentCodeList[codeId] or currentCodeList[codeId] == wildCard ):\n",
    "            codeId += 1\n",
    "        else:\n",
    "            codeId = 0   \n",
    "        if(codeId >= len(currentCodeList)):\n",
    "            return True\n",
    "        \n",
    "    return codeId == len(currentCodeList)\n",
    "\n",
    "\n",
    "def isWinnerForCodeList(allCodeList,cart):\n",
    "    for codeList in allCodeList:\n",
    "        if(isWinnerForCode(codeList,cart)):\n",
    "            print(codeList)\n",
    "            return 1\n",
    "    return -1\n",
    "    \n",
    "isWinnerForCode(currentPromo,cart)\n",
    "#isWinnerForCodeList(promotion,cart) "
   ]
  },
  {
   "cell_type": "code",
   "execution_count": null,
   "metadata": {},
   "outputs": [],
   "source": []
  },
  {
   "cell_type": "code",
   "execution_count": null,
   "metadata": {},
   "outputs": [],
   "source": [
    "promotions = [['apple', 'banana']]\n",
    "orders = ['orange', 'apple', 'apple', 'banana', 'orange', 'apple']\n",
    "\n",
    "def test(promotions,orders):\n",
    "    p_idx = o_idx = 0\n",
    "    # 1st loop until both index reach their size\n",
    "    while p_idx < len(promotions) and o_idx < len(orders):\n",
    "        # put the each promotion combination into a list\n",
    "        promo_combination = promotions[p_idx]\n",
    "        # initialize the above combination index\n",
    "        promo_idx = 0\n",
    "        # loop through the promo_combination and orders to see if\n",
    "        # it satisfies\n",
    "        while promo_idx < len(promo_combination) and o_idx < len(orders):\n",
    "            # now compare each combination with the order and also wild card anything\n",
    "            if promo_combination[promo_idx] == orders[o_idx] or promo_combination[promo_idx] == \"anything\":\n",
    "                # increment the promo_idx\n",
    "                promo_idx += 1\n",
    "            else:\n",
    "                # if not start the comparision from beginning\n",
    "                promo_idx = 0\n",
    "            # move to next order\n",
    "            o_idx += 1\n",
    "        if promo_idx != len(promo_combination):\n",
    "            return False\n",
    "        # move to next promotion combinations\n",
    "        p_idx += 1\n",
    "    # if the promotion index is less than total promotions\n",
    "    # return False\n",
    "    if p_idx < len(promotions):\n",
    "        return False\n",
    "    return True\n",
    "\n",
    "test(promotions,orders)"
   ]
  },
  {
   "cell_type": "markdown",
   "metadata": {},
   "source": [
    "https://leetcode.com/discuss/interview-question/347457/Amazon-or-OA-2019-or-Treasure-Island"
   ]
  },
  {
   "cell_type": "code",
   "execution_count": 30,
   "metadata": {},
   "outputs": [
    {
     "data": {
      "text/plain": [
       "1"
      ]
     },
     "execution_count": 30,
     "metadata": {},
     "output_type": "execute_result"
    }
   ],
   "source": [
    "grid = [['O', 'X', 'O', 'O'],\n",
    " ['D', 'X', 'D', 'O'],\n",
    " ['O', 'O', 'O', 'O'],\n",
    " ['O', 'D', 'D', 'O']]\n",
    "\n",
    "from collections import deque\n",
    "\n",
    "def bfs(grid):\n",
    "    q = deque()\n",
    "    q.append((0,0,0))\n",
    "    nr = len(grid)\n",
    "    nc = len(grid[0])\n",
    "    while(q):\n",
    "        r,c,level = q.popleft()\n",
    "        if(grid[r][c] == 'X'):\n",
    "            return level\n",
    "        grid[r][c] = 'D'\n",
    "        for cr,cc in [(0,1),(0,-1),(1,0),(-1,0)]:\n",
    "            nextR = r + cr\n",
    "            nextC = c + cc\n",
    "            if(0<=nextR<nr and 0<=nextC<nc and (grid[nextR][nextC] != 'D')):\n",
    "                q.append((nextR,nextC,level+1))\n",
    "                \n",
    "    return -1\n",
    "bfs(grid)       "
   ]
  },
  {
   "cell_type": "markdown",
   "metadata": {},
   "source": [
    "https://aonecode.com/oa-cloudfront-caching"
   ]
  },
  {
   "cell_type": "code",
   "execution_count": null,
   "metadata": {},
   "outputs": [],
   "source": [
    "network = [[2,6],[3,5],[0,1],[2,9],[5,6]]\n",
    "n = 10\n",
    "\n",
    "network2 = [[0,2],[1,2]]\n",
    "#n = 4\n",
    "\n",
    "from collections import defaultdict\n",
    "import math \n",
    "\n",
    "graph = defaultdict(list)\n",
    "for src,dest in network:\n",
    "    graph[src].append(dest)\n",
    "    graph[dest].append(src)\n",
    "    \n",
    "print(graph)\n",
    "\n",
    "\n",
    "def dfs(src,visited,component):\n",
    "    visited.add(src)\n",
    "    for neighbour in graph[src]:\n",
    "        if(neighbour not in visited):\n",
    "            component.append(neighbour)\n",
    "            dfs(neighbour,visited,component)\n",
    "    return component\n",
    "    \n",
    "visited = set()\n",
    "res = 0\n",
    "for i in range(n):\n",
    "    if(i not in visited):\n",
    "        comonent = dfs(i,visited,[i])\n",
    "        print(i,comonent)\n",
    "        res += math.ceil(math.sqrt(len(comonent)))\n",
    "\n",
    "print(res)"
   ]
  },
  {
   "cell_type": "markdown",
   "metadata": {},
   "source": [
    "https://leetcode.com/discuss/interview-question/1184534/amazon-oa-sde2-optimizing-box-weight-gift-grouping"
   ]
  },
  {
   "cell_type": "code",
   "execution_count": 33,
   "metadata": {},
   "outputs": [
    {
     "name": "stdout",
     "output_type": "stream",
     "text": [
      "[5, 4]\n"
     ]
    }
   ],
   "source": [
    "def optimize(arr):\n",
    "    aSetSum = 0\n",
    "    bSetSum = 0\n",
    "    for a in arr:\n",
    "        bSetSum += a    \n",
    "    arr.sort()\n",
    "    arr.reverse()\n",
    "    minimalA = []\n",
    "    for a in arr:\n",
    "        if(aSetSum>bSetSum):\n",
    "            break\n",
    "        lastElem = a\n",
    "        aSetSum += a\n",
    "        bSetSum -= a\n",
    "        minimalA.append(a)\n",
    "    \n",
    "    print(minimalA)\n",
    "        \n",
    "        \n",
    "    \n",
    "    \n",
    "optimize([1, 2, 2, 3, 4, 5])"
   ]
  },
  {
   "cell_type": "markdown",
   "metadata": {},
   "source": [
    "https://leetcode.com/discuss/interview-question/378221/Twitter-or-OA-2019-or-Final-Discounted-Price"
   ]
  },
  {
   "cell_type": "code",
   "execution_count": 48,
   "metadata": {},
   "outputs": [
    {
     "name": "stdout",
     "output_type": "stream",
     "text": [
      "[1, 1, 0, 2, 2, 0]\n"
     ]
    }
   ],
   "source": [
    "def getDiscount(priceList):\n",
    "    stack = []\n",
    "    res = [0] * len(priceList)\n",
    "    for i,price in enumerate(priceList):\n",
    "        while(len(stack)>0 and priceList[stack[-1]]>=price):\n",
    "            index = stack.pop()\n",
    "            res[index] = priceList[i]\n",
    "        stack.append(i)        \n",
    "        \n",
    "    for elem in stack:\n",
    "        res[elem] = 0\n",
    "        \n",
    "    print(res)\n",
    "        \n",
    "getDiscount([2,3,1,2,4,2])"
   ]
  },
  {
   "cell_type": "markdown",
   "metadata": {},
   "source": [
    "https://leetcode.com/discuss/interview-question/1482521/Amazon-or-OA-or-SDE2\n",
    "\n",
    "https://leetcode.com/problems/flip-string-to-monotone-increasing/"
   ]
  },
  {
   "cell_type": "code",
   "execution_count": 74,
   "metadata": {},
   "outputs": [
    {
     "data": {
      "text/plain": [
       "2"
      ]
     },
     "execution_count": 74,
     "metadata": {},
     "output_type": "execute_result"
    }
   ],
   "source": [
    "import math\n",
    "def minFlipsMonoIncr(s):  \n",
    "    p = [0]\n",
    "    for x in s:\n",
    "        res = 1 if x == 'T' else 0\n",
    "        p.append(p[-1] + res )\n",
    "    res = math.inf\n",
    "    n = len(s)\n",
    "    for i in range(len(p)):\n",
    "        count = p[i] + (n-i) - (p[-1] - p[i])\n",
    "        res = min(res,count)\n",
    "    return res\n",
    "minFlipsMonoIncr('THHHTH')"
   ]
  },
  {
   "cell_type": "markdown",
   "metadata": {},
   "source": [
    "https://leetcode.com/discuss/interview-question/1482521/Amazon-or-OA-or-SDE2"
   ]
  },
  {
   "cell_type": "code",
   "execution_count": 87,
   "metadata": {},
   "outputs": [
    {
     "name": "stdout",
     "output_type": "stream",
     "text": [
      " set() 0\n",
      "A {'A'} 1\n",
      "AA {'A'} 1\n",
      "AAA {'A'} 1\n",
      "AAAB {'A', 'B'} 2\n",
      " set() 0\n",
      "A {'A'} 1\n",
      "AA {'A'} 1\n",
      "AAB {'A', 'B'} 2\n",
      " set() 0\n",
      "A {'A'} 1\n",
      "AB {'A', 'B'} 2\n",
      " set() 0\n",
      "B {'B'} 1\n"
     ]
    },
    {
     "data": {
      "text/plain": [
       "13"
      ]
     },
     "execution_count": 87,
     "metadata": {},
     "output_type": "execute_result"
    }
   ],
   "source": [
    "from collections import defaultdict\n",
    "def distinctSubString(s):\n",
    "    n = len(s)\n",
    "    res = 0\n",
    "    for i in range(n):\n",
    "        for j in range(i,n+1):\n",
    "            test = s[i:j]\n",
    "            #print(test,(set(test)),len(set(test)))\n",
    "            res += len(set(test))\n",
    "    return res\n",
    "distinctSubString('AAAB')"
   ]
  },
  {
   "cell_type": "markdown",
   "metadata": {},
   "source": [
    "https://leetcode.com/discuss/interview-question/1474282/Amazon-OA"
   ]
  },
  {
   "cell_type": "code",
   "execution_count": 122,
   "metadata": {},
   "outputs": [
    {
     "name": "stdout",
     "output_type": "stream",
     "text": [
      "TRYME\n"
     ]
    }
   ],
   "source": [
    "def encrypt(password,k):\n",
    "    result = \"\"\n",
    "    k = k % 26\n",
    "    k = 26 - k\n",
    "    for i in password:\n",
    "        a = ord('A') + (ord(i) - ord('A') + k)%26\n",
    "        result += chr(a)\n",
    "    print(result)\n",
    "encrypt('VTAOG',2)"
   ]
  },
  {
   "cell_type": "code",
   "execution_count": null,
   "metadata": {},
   "outputs": [],
   "source": []
  }
 ],
 "metadata": {
  "kernelspec": {
   "display_name": "Python 3",
   "language": "python",
   "name": "python3"
  },
  "language_info": {
   "codemirror_mode": {
    "name": "ipython",
    "version": 3
   },
   "file_extension": ".py",
   "mimetype": "text/x-python",
   "name": "python",
   "nbconvert_exporter": "python",
   "pygments_lexer": "ipython3",
   "version": "3.8.3"
  }
 },
 "nbformat": 4,
 "nbformat_minor": 4
}
